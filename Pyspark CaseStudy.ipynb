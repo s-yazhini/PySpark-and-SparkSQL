{
 "cells": [
  {
   "cell_type": "code",
   "execution_count": 0,
   "metadata": {
    "application/vnd.databricks.v1+cell": {
     "cellMetadata": {
      "byteLimit": 2048000,
      "rowLimit": 10000
     },
     "inputWidgets": {},
     "nuid": "47b9bc3f-5a31-4803-8596-a859b5d636cc",
     "showTitle": false,
     "tableResultSettingsMap": {},
     "title": ""
    }
   },
   "outputs": [],
   "source": [
    "#common 1st 4 lines\n",
    "\n",
    "from pyspark import SparkContext\n",
    "\n",
    "from pyspark.sql import SparkSession\n",
    "\n",
    "sc=SparkContext.getOrCreate()\n",
    "\n",
    "spark=SparkSession.builder.appName('CaseStudy Online banking').getOrCreate()\n"
   ]
  },
  {
   "cell_type": "code",
   "execution_count": 0,
   "metadata": {
    "application/vnd.databricks.v1+cell": {
     "cellMetadata": {
      "byteLimit": 2048000,
      "rowLimit": 10000
     },
     "inputWidgets": {},
     "nuid": "3c088781-826b-47dd-93e1-9aa796c561d9",
     "showTitle": false,
     "tableResultSettingsMap": {},
     "title": ""
    }
   },
   "outputs": [],
   "source": [
    "# Load datasets\n",
    "loans_df = spark.read.csv(\"/FileStore/tables/loan.csv\", header=True, inferSchema=True)\n",
    "credit_df = spark.read.csv(\"/FileStore/tables/credit_card.csv\", header=True, inferSchema=True)\n",
    "transactions_df = spark.read.csv(\"/FileStore/tables/txn.csv\", header=True, inferSchema=True)"
   ]
  },
  {
   "cell_type": "code",
   "execution_count": 0,
   "metadata": {
    "application/vnd.databricks.v1+cell": {
     "cellMetadata": {
      "byteLimit": 2048000,
      "rowLimit": 10000
     },
     "inputWidgets": {},
     "nuid": "a0225d63-5861-440b-ba92-aa711a74723d",
     "showTitle": false,
     "tableResultSettingsMap": {},
     "title": ""
    }
   },
   "outputs": [
    {
     "output_type": "stream",
     "name": "stdout",
     "output_type": "stream",
     "text": [
      "Loan categories:\n+------------------+-----+\n|     Loan Category|count|\n+------------------+-----+\n|           HOUSING|   67|\n|        TRAVELLING|   53|\n|       BOOK STORES|    7|\n|       AGRICULTURE|   12|\n|         GOLD LOAN|   77|\n|  EDUCATIONAL LOAN|   20|\n|        AUTOMOBILE|   60|\n|          BUSINESS|   24|\n|COMPUTER SOFTWARES|   35|\n|           DINNING|   14|\n|          SHOPPING|   35|\n|       RESTAURANTS|   41|\n|       ELECTRONICS|   14|\n|          BUILDING|    7|\n|        RESTAURANT|   20|\n|   HOME APPLIANCES|   14|\n+------------------+-----+\n\n"
     ]
    }
   ],
   "source": [
    "# Loan Data Analysis\n",
    "# Number of loans in each category\n",
    "loan_categories = loans_df.groupBy(\"Loan Category\").count()\n",
    "print(\"Loan categories:\")\n",
    "loan_categories.show()"
   ]
  },
  {
   "cell_type": "code",
   "execution_count": 0,
   "metadata": {
    "application/vnd.databricks.v1+cell": {
     "cellMetadata": {
      "byteLimit": 2048000,
      "rowLimit": 10000
     },
     "inputWidgets": {},
     "nuid": "8a06dfae-8998-4875-a7ea-24db526da63e",
     "showTitle": false,
     "tableResultSettingsMap": {},
     "title": ""
    }
   },
   "outputs": [
    {
     "output_type": "stream",
     "name": "stdout",
     "output_type": "stream",
     "text": [
      "Number of people with loans > 1 lakh: 0\n"
     ]
    }
   ],
   "source": [
    "# Number of people who have taken more than 1 lakh loan\n",
    "from pyspark.sql.functions import col\n",
    "\n",
    "high_value_loans = loans_df.filter(col(\"Loan Amount\") > 100000).count()\n",
    "print(f\"Number of people with loans > 1 lakh: {high_value_loans}\")"
   ]
  },
  {
   "cell_type": "code",
   "execution_count": 0,
   "metadata": {
    "application/vnd.databricks.v1+cell": {
     "cellMetadata": {
      "byteLimit": 2048000,
      "rowLimit": 10000
     },
     "inputWidgets": {},
     "nuid": "879949fa-5ab5-4daf-98e4-3e77615d9803",
     "showTitle": false,
     "tableResultSettingsMap": {},
     "title": ""
    }
   },
   "outputs": [
    {
     "output_type": "stream",
     "name": "stdout",
     "output_type": "stream",
     "text": [
      "Number of people with income > 60,000: 198\n"
     ]
    }
   ],
   "source": [
    "# Number of people with income greater than 60,000\n",
    "high_income = loans_df.filter(col(\"Income\") > 60000).count()\n",
    "print(f\"Number of people with income > 60,000: {high_income}\")\n"
   ]
  },
  {
   "cell_type": "code",
   "execution_count": 0,
   "metadata": {
    "application/vnd.databricks.v1+cell": {
     "cellMetadata": {
      "byteLimit": 2048000,
      "rowLimit": 10000
     },
     "inputWidgets": {},
     "nuid": "8b1409df-4e44-4058-a439-bbfdb66d75bc",
     "showTitle": false,
     "tableResultSettingsMap": {},
     "title": ""
    }
   },
   "outputs": [
    {
     "output_type": "stream",
     "name": "stdout",
     "output_type": "stream",
     "text": [
      "Number of high-risk customers: 137\n"
     ]
    }
   ],
   "source": [
    "# Number of people with 2+ returned cheques and income less than 50,000\n",
    "high_risk_customers = loans_df.filter((col(\" Returned Cheque\") >= 2) & (col(\"Income\") < 50000)).count()\n",
    "print(f\"Number of high-risk customers: {high_risk_customers}\")"
   ]
  },
  {
   "cell_type": "code",
   "execution_count": 0,
   "metadata": {
    "application/vnd.databricks.v1+cell": {
     "cellMetadata": {
      "byteLimit": 2048000,
      "rowLimit": 10000
     },
     "inputWidgets": {},
     "nuid": "cc79c705-7515-4bbe-9858-efa3fd8c0cc7",
     "showTitle": false,
     "tableResultSettingsMap": {},
     "title": ""
    }
   },
   "outputs": [
    {
     "output_type": "stream",
     "name": "stdout",
     "output_type": "stream",
     "text": [
      "Single high-risk customers: 0\n"
     ]
    }
   ],
   "source": [
    "# Number of people with 2+ returned cheques and are single\n",
    "single_high_risk = loans_df.filter((col(\" Returned Cheque\") >= 2) & (col(\"Marital Status\") == \"Single\")).count()\n",
    "print(f\"Single high-risk customers: {single_high_risk}\")\n"
   ]
  },
  {
   "cell_type": "code",
   "execution_count": 0,
   "metadata": {
    "application/vnd.databricks.v1+cell": {
     "cellMetadata": {
      "byteLimit": 2048000,
      "rowLimit": 10000
     },
     "inputWidgets": {},
     "nuid": "4c75cd76-2cbd-42a3-b002-3dec74ab27fe",
     "showTitle": false,
     "tableResultSettingsMap": {},
     "title": ""
    }
   },
   "outputs": [
    {
     "output_type": "stream",
     "name": "stdout",
     "output_type": "stream",
     "text": [
      "High expenditure customers: 6\n"
     ]
    }
   ],
   "source": [
    "# Number of people with expenditure over 50,000 a month\n",
    "high_expenditure = loans_df.filter(col(\"Expenditure\") > 50000).count()\n",
    "print(f\"High expenditure customers: {high_expenditure}\")"
   ]
  },
  {
   "cell_type": "code",
   "execution_count": 0,
   "metadata": {
    "application/vnd.databricks.v1+cell": {
     "cellMetadata": {
      "byteLimit": 2048000,
      "rowLimit": 10000
     },
     "inputWidgets": {},
     "nuid": "fb26dd06-059e-4e1d-a78b-f5f312c69b46",
     "showTitle": false,
     "tableResultSettingsMap": {},
     "title": ""
    }
   },
   "outputs": [
    {
     "output_type": "stream",
     "name": "stdout",
     "output_type": "stream",
     "text": [
      "Credit card users in Spain: 2477\n+---------+----------+---------+-----------+---------+------+---+------+---------+-------------+--------------+---------------+------+\n|RowNumber|CustomerId|  Surname|CreditScore|Geography|Gender|Age|Tenure|  Balance|NumOfProducts|IsActiveMember|EstimatedSalary|Exited|\n+---------+----------+---------+-----------+---------+------+---+------+---------+-------------+--------------+---------------+------+\n|        2|  15647311|     Hill|        608|    Spain|Female| 41|     1| 83807.86|            1|             1|      112542.58|     0|\n|        5|  15737888| Mitchell|        850|    Spain|Female| 43|     2|125510.82|            1|             1|        79084.1|     0|\n|        6|  15574012|      Chu|        645|    Spain|  Male| 44|     8|113755.78|            2|             0|      149756.71|     1|\n|       12|  15737173|  Andrews|        497|    Spain|  Male| 24|     3|      0.0|            2|             0|       76390.01|     0|\n|       15|  15600882|    Scott|        635|    Spain|Female| 35|     7|      0.0|            2|             1|       65951.65|     0|\n|       18|  15788218|Henderson|        549|    Spain|Female| 24|     9|      0.0|            2|             1|       14406.41|     0|\n|       19|  15661507|  Muldrow|        587|    Spain|  Male| 45|     6|      0.0|            1|             0|      158684.81|     0|\n|       22|  15597945| Dellucci|        636|    Spain|Female| 32|     8|      0.0|            2|             0|      138555.46|     0|\n|       23|  15699309|Gerasimov|        510|    Spain|Female| 38|     4|      0.0|            1|             0|      118913.53|     1|\n|       31|  15589475|  Azikiwe|        591|    Spain|Female| 39|     3|      0.0|            3|             0|      140469.38|     1|\n|       34|  15659428|  Maggard|        520|    Spain|Female| 42|     6|      0.0|            2|             1|       34410.55|     0|\n|       35|  15732963| Clements|        722|    Spain|Female| 29|     9|      0.0|            2|             1|      142033.07|     0|\n|       37|  15788448|   Watson|        490|    Spain|  Male| 31|     3|145260.23|            1|             1|      114066.77|     0|\n|       38|  15729599|  Lorenzo|        804|    Spain|  Male| 33|     7|  76548.6|            1|             1|       98453.45|     0|\n|       41|  15619360|    Hsiao|        472|    Spain|  Male| 40|     4|      0.0|            1|             0|       70154.22|     0|\n|       45|  15684171|  Bianchi|        660|    Spain|Female| 61|     5|155931.11|            1|             1|      158338.39|     0|\n|       59|  15623944|    T'ien|        511|    Spain|Female| 66|     4|      0.0|            1|             0|        1643.11|     1|\n|       63|  15702014|  Jeffrey|        555|    Spain|  Male| 33|     1| 56084.69|            2|             0|      178798.13|     0|\n|       64|  15751208|  Pirozzi|        684|    Spain|  Male| 56|     8| 78707.16|            1|             1|       99398.36|     0|\n|       73|  15812518|  Palermo|        657|    Spain|Female| 37|     0|163607.18|            1|             1|       44203.55|     0|\n+---------+----------+---------+-----------+---------+------+---+------+---------+-------------+--------------+---------------+------+\nonly showing top 20 rows\n\n"
     ]
    }
   ],
   "source": [
    "# Credit Data Analysis\n",
    "# Credit card users in Spain\n",
    "credit_users_spain = credit_df.filter(col(\"Geography\") == \"Spain\")\n",
    "a = credit_users_spain.count()\n",
    "print(f\"Credit card users in Spain: {a}\")\n",
    "credit_users_spain.show()"
   ]
  },
  {
   "cell_type": "code",
   "execution_count": 0,
   "metadata": {
    "application/vnd.databricks.v1+cell": {
     "cellMetadata": {
      "byteLimit": 2048000,
      "rowLimit": 10000
     },
     "inputWidgets": {},
     "nuid": "87ffc9fd-27c9-4597-8331-0b27b4e20d4e",
     "showTitle": false,
     "tableResultSettingsMap": {},
     "title": ""
    }
   },
   "outputs": [
    {
     "output_type": "stream",
     "name": "stdout",
     "output_type": "stream",
     "text": [
      "['RowNumber', 'CustomerId', 'Surname', 'CreditScore', 'Geography', 'Gender', 'Age', 'Tenure', 'Balance', 'NumOfProducts', 'IsActiveMember', 'EstimatedSalary', 'Exited']\n['Customer_ID', 'Age', 'Gender', 'Occupation', 'Marital Status', 'Family Size', 'Income', 'Expenditure', 'Use Frequency', 'Loan Category', 'Loan Amount', 'Overdue', ' Debt Record', ' Returned Cheque', ' Dishonour of Bill']\n"
     ]
    }
   ],
   "source": [
    "print(credit_df.columns)\n",
    "print(loans_df.columns)\n",
    "\n"
   ]
  },
  {
   "cell_type": "code",
   "execution_count": 0,
   "metadata": {
    "application/vnd.databricks.v1+cell": {
     "cellMetadata": {
      "byteLimit": 2048000,
      "rowLimit": 10000
     },
     "inputWidgets": {},
     "nuid": "87b864a7-1f2d-4855-a20d-ff4a2652adfc",
     "showTitle": false,
     "tableResultSettingsMap": {},
     "title": ""
    }
   },
   "outputs": [
    {
     "output_type": "stream",
     "name": "stdout",
     "output_type": "stream",
     "text": [
      "Maximum withdrawal amount: 459447546.4\n"
     ]
    }
   ],
   "source": [
    "# Transactions Data Analysis\n",
    "# Maximum withdrawal amount in transactions\n",
    "from pyspark.sql.functions import max\n",
    "max_withdrawal = transactions_df.select(max(\" WITHDRAWAL AMT \")).collect()[0][0]\n",
    "print(f\"Maximum withdrawal amount: {max_withdrawal}\")"
   ]
  },
  {
   "cell_type": "code",
   "execution_count": 0,
   "metadata": {
    "application/vnd.databricks.v1+cell": {
     "cellMetadata": {
      "byteLimit": 2048000,
      "rowLimit": 10000
     },
     "inputWidgets": {},
     "nuid": "10c30ace-5159-45bc-af5b-e532051f02c2",
     "showTitle": false,
     "tableResultSettingsMap": {},
     "title": ""
    }
   },
   "outputs": [
    {
     "output_type": "stream",
     "name": "stdout",
     "output_type": "stream",
     "text": [
      "Minimum withdrawal amount: 0.01\n"
     ]
    }
   ],
   "source": [
    "# Minimum withdrawal amount of an account\n",
    "from pyspark.sql.functions import min\n",
    "min_withdrawal = transactions_df.select(min(\" WITHDRAWAL AMT \")).collect()[0][0]\n",
    "print(f\"Minimum withdrawal amount: {min_withdrawal}\")"
   ]
  },
  {
   "cell_type": "code",
   "execution_count": 0,
   "metadata": {
    "application/vnd.databricks.v1+cell": {
     "cellMetadata": {
      "byteLimit": 2048000,
      "rowLimit": 10000
     },
     "inputWidgets": {},
     "nuid": "baefaa9b-4cc2-4aed-b7a2-3cb050529a42",
     "showTitle": false,
     "tableResultSettingsMap": {},
     "title": ""
    }
   },
   "outputs": [
    {
     "output_type": "stream",
     "name": "stdout",
     "output_type": "stream",
     "text": [
      "Maximum deposit amount: 544800000.0\n"
     ]
    }
   ],
   "source": [
    "# Maximum deposit amount of an account\n",
    "max_deposit = transactions_df.select(max(\" DEPOSIT AMT \")).collect()[0][0]\n",
    "print(f\"Maximum deposit amount: {max_deposit}\")\n"
   ]
  },
  {
   "cell_type": "code",
   "execution_count": 0,
   "metadata": {
    "application/vnd.databricks.v1+cell": {
     "cellMetadata": {
      "byteLimit": 2048000,
      "rowLimit": 10000
     },
     "inputWidgets": {},
     "nuid": "ad8fd621-4f32-427a-a758-b89c8cfb74a0",
     "showTitle": false,
     "tableResultSettingsMap": {},
     "title": ""
    }
   },
   "outputs": [
    {
     "output_type": "stream",
     "name": "stdout",
     "output_type": "stream",
     "text": [
      "Minimum deposit amount: 0.01\n"
     ]
    }
   ],
   "source": [
    "# Minimum deposit amount of an account\n",
    "min_deposit = transactions_df.select(min(\" DEPOSIT AMT \")).collect()[0][0]\n",
    "print(f\"Minimum deposit amount: {min_deposit}\")\n"
   ]
  },
  {
   "cell_type": "code",
   "execution_count": 0,
   "metadata": {
    "application/vnd.databricks.v1+cell": {
     "cellMetadata": {
      "byteLimit": 2048000,
      "rowLimit": 10000
     },
     "inputWidgets": {},
     "nuid": "f5c8f59b-be9f-417d-94a1-a6788c7fdb98",
     "showTitle": false,
     "tableResultSettingsMap": {},
     "title": ""
    }
   },
   "outputs": [
    {
     "output_type": "stream",
     "name": "stdout",
     "output_type": "stream",
     "text": [
      "Total account balance: -163245212011488.44\n"
     ]
    }
   ],
   "source": [
    "# Sum of balance in every bank account\n",
    "from pyspark.sql.functions import sum\n",
    "total_balance = transactions_df.agg(sum(\"BALANCE AMT\")).collect()[0][0]\n",
    "print(f\"Total account balance: {total_balance}\")"
   ]
  },
  {
   "cell_type": "code",
   "execution_count": 0,
   "metadata": {
    "application/vnd.databricks.v1+cell": {
     "cellMetadata": {
      "byteLimit": 2048000,
      "rowLimit": 10000
     },
     "inputWidgets": {},
     "nuid": "1a9b1ca1-8ac7-4331-b814-ea31f1375d6d",
     "showTitle": false,
     "tableResultSettingsMap": {},
     "title": ""
    }
   },
   "outputs": [
    {
     "output_type": "stream",
     "name": "stdout",
     "output_type": "stream",
     "text": [
      "['Account No', 'TRANSACTION DETAILS', 'VALUE DATE', ' WITHDRAWAL AMT ', ' DEPOSIT AMT ', 'BALANCE AMT']\n"
     ]
    }
   ],
   "source": [
    "print(transactions_df.columns)"
   ]
  },
  {
   "cell_type": "code",
   "execution_count": 0,
   "metadata": {
    "application/vnd.databricks.v1+cell": {
     "cellMetadata": {
      "byteLimit": 2048000,
      "rowLimit": 10000
     },
     "inputWidgets": {},
     "nuid": "48cd0d5a-7bc4-46a3-b69d-dbd83d834c81",
     "showTitle": false,
     "tableResultSettingsMap": {},
     "title": ""
    }
   },
   "outputs": [
    {
     "output_type": "stream",
     "name": "stdout",
     "output_type": "stream",
     "text": [
      "Transactions by date:\n+----------+-----+\n|VALUE DATE|count|\n+----------+-----+\n| 23-Dec-16|  143|\n|  7-Feb-19|   98|\n| 21-Jul-15|   80|\n|  9-Sep-15|   91|\n| 17-Jan-15|   16|\n| 18-Nov-17|   53|\n| 21-Feb-18|   77|\n| 20-Mar-18|   71|\n| 19-Apr-18|   71|\n| 21-Jun-16|   97|\n| 17-Oct-17|  101|\n|  3-Jan-18|   70|\n|  8-Jun-18|  223|\n| 15-Dec-18|   62|\n|  8-Aug-16|   97|\n| 17-Dec-16|   74|\n|  3-Sep-15|   83|\n| 21-Jan-16|   76|\n|  4-May-18|   92|\n|  7-Sep-17|   94|\n+----------+-----+\nonly showing top 20 rows\n\n"
     ]
    }
   ],
   "source": [
    "# Number of transactions on each date\n",
    "transactions_by_date = transactions_df.groupBy(\"VALUE DATE\").count()\n",
    "print(\"Transactions by date:\")\n",
    "transactions_by_date.show()"
   ]
  },
  {
   "cell_type": "code",
   "execution_count": 0,
   "metadata": {
    "application/vnd.databricks.v1+cell": {
     "cellMetadata": {
      "byteLimit": 2048000,
      "rowLimit": 10000
     },
     "inputWidgets": {},
     "nuid": "b6751bfa-8ce1-4932-aba2-c34ac5ee7350",
     "showTitle": false,
     "tableResultSettingsMap": {},
     "title": ""
    }
   },
   "outputs": [
    {
     "output_type": "stream",
     "name": "stdout",
     "output_type": "stream",
     "text": [
      "Customers with large withdrawals:\n+-------------+----------------+\n|   Account No| WITHDRAWAL AMT |\n+-------------+----------------+\n|409000611074'|        133900.0|\n|409000611074'|        195800.0|\n|409000611074'|        143800.0|\n|409000611074'|        331650.0|\n|409000611074'|        129000.0|\n|409000611074'|        230013.0|\n|409000611074'|        367900.0|\n|409000611074'|        108000.0|\n|409000611074'|        141000.0|\n|409000611074'|        206000.0|\n|409000611074'|        242300.0|\n|409000611074'|        113250.0|\n|409000611074'|        206900.0|\n|409000611074'|        276000.0|\n|409000611074'|        171000.0|\n|409000611074'|        189800.0|\n|409000611074'|        271323.0|\n|409000611074'|        200600.0|\n|409000611074'|        176900.0|\n|409000611074'|        150050.0|\n+-------------+----------------+\nonly showing top 20 rows\n\n"
     ]
    }
   ],
   "source": [
    "# List of customers with withdrawal amount more than 1 lakh\n",
    "large_withdrawals = transactions_df.filter(col(\" WITHDRAWAL AMT \") > 100000).select(\"Account No\", \" WITHDRAWAL AMT \")\n",
    "print(\"Customers with large withdrawals:\")\n",
    "large_withdrawals.show()"
   ]
  },
  {
   "cell_type": "code",
   "execution_count": 0,
   "metadata": {
    "application/vnd.databricks.v1+cell": {
     "cellMetadata": {},
     "inputWidgets": {},
     "nuid": "f6b096c7-718c-4cd0-b761-23e8b313b1a3",
     "showTitle": false,
     "tableResultSettingsMap": {},
     "title": ""
    }
   },
   "outputs": [],
   "source": [
    "# Stop SparkSession\n",
    "spark.stop()"
   ]
  }
 ],
 "metadata": {
  "application/vnd.databricks.v1+notebook": {
   "dashboards": [],
   "environmentMetadata": null,
   "language": "python",
   "notebookMetadata": {
    "pythonIndentUnit": 4
   },
   "notebookName": "Pyspark CaseStudy.py",
   "widgets": {}
  }
 },
 "nbformat": 4,
 "nbformat_minor": 0
}
